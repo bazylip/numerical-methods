{
 "cells": [
  {
   "cell_type": "markdown",
   "metadata": {
    "collapsed": true
   },
   "source": [
    "Sprawozdanie 1, Bazyli Polednia"
   ]
  },
  {
   "cell_type": "code",
   "execution_count": 1,
   "metadata": {},
   "outputs": [],
   "source": [
    "import math\n",
    "from numpy import array as matrix\n",
    "from numpy.linalg import inv\n",
    "from numpy import transpose\n",
    "from numpy.linalg import det\n",
    "from numpy import roots\n",
    "from numpy import arange\n",
    "from numpy import linspace\n",
    "import matplotlib.pyplot as plt"
   ]
  },
  {
   "cell_type": "markdown",
   "metadata": {},
   "source": [
    "Zadanie 1:"
   ]
  },
  {
   "cell_type": "code",
   "execution_count": 4,
   "metadata": {},
   "outputs": [
    {
     "name": "stdout",
     "output_type": "stream",
     "text": [
      "k = 3280.7316257200923 <class 'float'>\nm = 4467 <class 'int'>\nl = 2j <class 'complex'>\nd = 7747.731625720093 <class 'float'>\nc = (7747.731625720093+2j) <class 'complex'>\n"
     ]
    }
   ],
   "source": [
    "k = 1240 * math.sqrt(7)\n",
    "m = 4467\n",
    "l = 2j\n",
    "d = k + m\n",
    "c = d + l\n",
    "\n",
    "print(\"k =\", k, type(k))\n",
    "print (\"m =\", m, type(m))\n",
    "print (\"l =\", l, type(l))\n",
    "print (\"d =\", k + m, type(k+m))\n",
    "print (\"c =\", d + l, type(d+l))"
   ]
  },
  {
   "cell_type": "markdown",
   "metadata": {},
   "source": [
    "Zadanie 2:"
   ]
  },
  {
   "cell_type": "code",
   "execution_count": 5,
   "metadata": {},
   "outputs": [
    {
     "name": "stdout",
     "output_type": "stream",
     "text": [
      "\nd(3) = 7747.732\nd(15) = 7747.731625720092779\n"
     ]
    }
   ],
   "source": [
    "print (\"\\nd(3) =\", (\"%.3f\" % d))\n",
    "print (\"d(15) =\", (\"%.15f\" % d))"
   ]
  },
  {
   "cell_type": "markdown",
   "metadata": {},
   "source": [
    "Zadanie 3:"
   ]
  },
  {
   "cell_type": "code",
   "execution_count": 6,
   "metadata": {},
   "outputs": [
    {
     "name": "stdout",
     "output_type": "stream",
     "text": [
      "\nS = 5340.707511102648\n"
     ]
    }
   ],
   "source": [
    "r = 17\n",
    "h = 33\n",
    "print (\"\\nS =\", 2 * math.pi * r**2 + 2 * math.pi * r * h)"
   ]
  },
  {
   "cell_type": "markdown",
   "metadata": {},
   "source": [
    "Zadanie 5:"
   ]
  },
  {
   "cell_type": "code",
   "execution_count": 8,
   "metadata": {},
   "outputs": [],
   "source": [
    "def B(x, r, t):\n",
    "    return ((x + r)/(r * math.sin(2 * x) + 3.3456))*x**(t*r)"
   ]
  },
  {
   "cell_type": "markdown",
   "metadata": {},
   "source": [
    "Zadanie 6:"
   ]
  },
  {
   "cell_type": "code",
   "execution_count": 9,
   "metadata": {},
   "outputs": [
    {
     "name": "stdout",
     "output_type": "stream",
     "text": [
      "\nM:\n [[ 1.41421356  1.         -1.41421356]\n [ 0.          1.          1.        ]\n [-1.41421356  1.41421356  1.        ]]\nMinv:\n [[ 0.10355339  0.75       -0.60355339]\n [ 0.35355339  0.14644661  0.35355339]\n [-0.35355339  0.85355339 -0.35355339]]\nMt:\n [[ 1.41421356  0.         -1.41421356]\n [ 1.          1.          1.41421356]\n [-1.41421356  1.          1.        ]]\nMdet = -4.0\n"
     ]
    }
   ],
   "source": [
    "a = math.sqrt(2)\n",
    "M = matrix([[a, 1, -a], [0, 1, 1], [-a, a, 1]])\n",
    "Minv = inv(M)\n",
    "Mt = transpose(M)\n",
    "Mdet = det(M)\n",
    "\n",
    "print (\"\\nM:\\n {0}\".format(M))\n",
    "print (\"Minv:\\n {0}\".format(Minv))\n",
    "print (\"Mt:\\n {0}\".format(Mt))\n",
    "print (\"Mdet =\", Mdet)"
   ]
  },
  {
   "cell_type": "markdown",
   "metadata": {},
   "source": [
    "Zadanie 7:"
   ]
  },
  {
   "cell_type": "code",
   "execution_count": 12,
   "metadata": {},
   "outputs": [
    {
     "name": "stdout",
     "output_type": "stream",
     "text": [
      "\n M(1,1) = 1.4142135623730951\nM(3,3) = 1.0\nM(3,2) = 1.4142135623730951\nw1:\n [-1.41421356  1.          1.        ]\nw2:\n [0. 1. 1.]\n"
     ]
    }
   ],
   "source": [
    "print (\"\\n M(1,1) = {0}\".format(M[0,0]))\n",
    "print (\"M(3,3) = {0}\".format(M[2,2]))\n",
    "print (\"M(3,2) = {0}\".format(M[2,1]))\n",
    "w1 = matrix(M[:,2])\n",
    "w2 = matrix(M[1,:])\n",
    "print(\"w1:\\n {0}\".format(w1))\n",
    "print(\"w2:\\n {0}\".format(w2))"
   ]
  },
  {
   "cell_type": "markdown",
   "metadata": {},
   "source": [
    "Zadanie 8:"
   ]
  },
  {
   "cell_type": "code",
   "execution_count": 13,
   "metadata": {},
   "outputs": [
    {
     "name": "stdout",
     "output_type": "stream",
     "text": [
      "\nPierwiastki:  [ 5.  3.  2. -2. -1.]\n\nSprawdzenie wartosci [-8.952838470577262e-13, 0.0, -2.842170943040401e-14, 9.237055564881302e-14, 1.4210854715202004e-14]\n"
     ]
    }
   ],
   "source": [
    "coeff = [1, -7, 3, 43, -28, -60]\n",
    "print(\"\\nPierwiastki: \",roots(coeff))\n",
    "def check(x):\n",
    "    return x*( x*( x*( x*( x - 7 )+ 3 ) + 43 ) - 28 ) - 60\n",
    "\n",
    "print(\"\\nSprawdzenie wartosci {0}\".format([check(x) for x in roots(coeff)]))"
   ]
  },
  {
   "cell_type": "markdown",
   "metadata": {},
   "source": [
    "Zadanie 9:"
   ]
  },
  {
   "cell_type": "code",
   "execution_count": 14,
   "metadata": {},
   "outputs": [
    {
     "name": "stdout",
     "output_type": "stream",
     "text": [
      "\n [0.  0.5 1.  1.5 2.  2.5 3.  3.5 4.  4.5]\n[0.  0.5 1.  1.5 2.  2.5 3.  3.5 4.  4.5]\n"
     ]
    }
   ],
   "source": [
    "print(\"\\n\",arange(0,5,1.0/2))\n",
    "print (linspace(0,4.5,10))"
   ]
  },
  {
   "cell_type": "markdown",
   "metadata": {},
   "source": [
    "Zadanie 10:"
   ]
  },
  {
   "cell_type": "code",
   "execution_count": 15,
   "metadata": {},
   "outputs": [
    {
     "data": {
      "image/png": "[encoded data removed]",
      "text/plain": [
       "<Figure size 432x288 with 1 Axes>"
      ]
     },
     "metadata": {},
     "output_type": "display_data"
    },
    {
     "data": {
      "image/png": "[encoded data removed]",
      "text/plain": [
       "<Figure size 432x288 with 1 Axes>"
      ]
     },
     "metadata": {},
     "output_type": "display_data"
    },
    {
     "data": {
      "image/png": "[encoded data removed]",
      "text/plain": [
       "<Figure size 432x288 with 1 Axes>"
      ]
     },
     "metadata": {},
     "output_type": "display_data"
    }
   ],
   "source": [
    "def f(x):\n",
    "    return x**3-3*x\n",
    "\n",
    "x1 = linspace(-1,1)\n",
    "y1 = f(x1)\n",
    "plt.plot(x1, y1)\n",
    "plt.title('Wykres 1')\n",
    "plt.xlabel('x')\n",
    "plt.ylabel('y')\n",
    "plt.legend('Wykres 1')\n",
    "plt.show()\n",
    "\n",
    "x2 = linspace(-5,5)\n",
    "y2 = f(x2)\n",
    "plt.plot(x2,y2)\n",
    "plt.title('Wykres 2')\n",
    "plt.xlabel('x')\n",
    "plt.ylabel('y')\n",
    "plt.legend('Wykres 2')\n",
    "plt.show()\n",
    "\n",
    "x3 = linspace(0,5)\n",
    "y3 = f(x3)\n",
    "plt.plot(x3,y3)\n",
    "plt.title('Wykres 3')\n",
    "plt.xlabel('x')\n",
    "plt.ylabel('y')\n",
    "plt.legend('Wykres 3')\n",
    "plt.show()"
   ]
  },
  {
   "cell_type": "markdown",
   "metadata": {},
   "source": [
    "Zadanie 11:"
   ]
  },
  {
   "cell_type": "code",
   "execution_count": null,
   "metadata": {},
   "outputs": [
    {
     "name": "stdout",
     "output_type": "stream",
     "text": [
      "\ncw.11\nCiepło dla m=2.5kg, v=60km/h = 4500.0 J = 1.0755258126195029 kcal\n"
     ]
    },
    {
     "data": {
      "image/png": "[encoded data removed]",
      "text/plain": [
       "<Figure size 432x288 with 1 Axes>"
      ]
     },
     "metadata": {},
     "output_type": "display_data"
    },
    {
     "data": {
      "image/png": "[encoded data removed]",
      "text/plain": [
       "<Figure size 432x288 with 1 Axes>"
      ]
     },
     "metadata": {},
     "output_type": "display_data"
    }
   ],
   "source": [
    "def heat(m, v):\n",
    "    return (m*pow(v,2))/2\n",
    "\n",
    "print(\"\\nCiepło dla m=2.5kg, v=60km/h =\", heat(2.5, 60), \"J =\", heat(2.5,60)/4184, \"kcal\")\n",
    "x = linspace(200,0)\n",
    "ylin = heat(3, x)\n",
    "plt.plot(x, ylin)\n",
    "plt.title(\"Wykres ciepła liniowy\")\n",
    "plt.xlabel('V')\n",
    "plt.ylabel('Q')\n",
    "plt.legend('Wykres ciepła liniowy')\n",
    "plt.gca().invert_xaxis()\n",
    "plt.show()\n",
    "\n",
    "ylog = heat(3, x)\n",
    "plt.semilogy(x, ylog)\n",
    "plt.title(\"Wykres ciepła logarytmiczny\")\n",
    "plt.xlabel('V')\n",
    "plt.ylabel('Q')\n",
    "plt.legend('Wykres ciepła logarytmiczny')\n",
    "plt.gca().invert_xaxis()\n",
    "plt.show()"
   ]
  },
  {
   "cell_type": "code",
   "execution_count": null,
   "metadata": {},
   "outputs": [],
   "source": []
  }
 ],
 "metadata": {
  "kernelspec": {
   "display_name": "Python 2",
   "language": "python",
   "name": "python2"
  },
  "language_info": {
   "codemirror_mode": {
    "name": "ipython",
    "version": 2
   },
   "file_extension": ".py",
   "mimetype": "text/x-python",
   "name": "python",
   "nbconvert_exporter": "python",
   "pygments_lexer": "ipython2",
   "version": "2.7.6"
  }
 },
 "nbformat": 4,
 "nbformat_minor": 0
}
