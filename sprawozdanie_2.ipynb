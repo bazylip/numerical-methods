{
 "cells": [
  {
   "cell_type": "markdown",
   "metadata": {
    "collapsed": true
   },
   "source": [
    "Sprawozdanie 2 Bazyli Polednia"
   ]
  },
  {
   "cell_type": "code",
   "execution_count": 15,
   "metadata": {},
   "outputs": [],
   "source": [
    "import math\n",
    "import matplotlib.pyplot as plt\n",
    "import numpy as np"
   ]
  },
  {
   "cell_type": "markdown",
   "metadata": {},
   "source": [
    "Zadanie 1:"
   ]
  },
  {
   "cell_type": "code",
   "execution_count": 16,
   "metadata": {},
   "outputs": [
    {
     "name": "stdout",
     "output_type": "stream",
     "text": [
      "pi - błąd bezwzględny: 0.0012644892673496777 , błąd względny: 0.0004024994347707008\ne - błąd bezwzględny: 0.0002818284590451192 , błąd względny: 0.00010367889601972718\n10^pi - błąd bezwzględny: 11.544268632989315 , błąd względny: 0.008332470227394952\n9! - błąd bezwzględny: 3343.1271580516477 , błąd względny: 0.009212762230080598\n"
     ]
    }
   ],
   "source": [
    "def absError(x, xc):\n",
    "    return abs(x - xc)\n",
    "\n",
    "def relError(x, xc):\n",
    "    return abs((x - xc)/x)\n",
    "\n",
    "def strong(n):\n",
    "    if(n == 1 or n == 0):\n",
    "        return 1\n",
    "    else:\n",
    "        return n * strong(n - 1)\n",
    "\n",
    "print(\"pi - błąd bezwzględny:\", absError(math.pi, 22/7), \", błąd względny:\", relError(math.pi, 22/7))\n",
    "print(\"e - błąd bezwzględny:\", absError(math.e, 2.718), \", błąd względny:\", relError(math.e, 2.718))\n",
    "print(\"10^pi - błąd bezwzględny:\", absError(pow(10,math.pi), 1397), \", błąd względny:\", relError(pow(10,math.pi), 1397))\n",
    "print(\"9! - błąd bezwzględny:\", absError(strong(9), pow(18 * math.pi, 0.5) * pow(9 / math.e, 9)), \", błąd względny:\", relError(strong(9), pow(18 * math.pi, 0.5) * pow(9 / math.e, 9)))\n"
   ]
  },
  {
   "cell_type": "markdown",
   "metadata": {},
   "source": [
    "Zadanie 2:\n",
    "\n",
    "1. Nie, nie zależy\n",
    "3. Rośnie, zatem można przypuszczać że jest wprost proporcjonalnie zależny od n\n",
    "4. Błąd zaokrąglenia"
   ]
  },
  {
   "cell_type": "code",
   "execution_count": 17,
   "metadata": {},
   "outputs": [
    {
     "data": {
      "image/png": "[encoded data removed]",
      "text/plain": [
       "<Figure size 432x288 with 1 Axes>"
      ]
     },
     "metadata": {},
     "output_type": "display_data"
    }
   ],
   "source": [
    "def nExpressionsOfSeries(n):\n",
    "    pi = round(math.pi, 15)\n",
    "    returnableVector = []\n",
    "    for p in range(1, n+1):\n",
    "        returnableVector.append((pow(10, p) * (1 + p * pi * pow(10, -p)) - pow(10, p)) / p)\n",
    "    return returnableVector\n",
    "\n",
    "def vectorAbsError(v, x):\n",
    "    returnableVector = []\n",
    "    for i in range(len(v)):\n",
    "        returnableVector.append(absError(x, v[i]))\n",
    "\n",
    "    return returnableVector\n",
    "\n",
    "def vectorRelError(v, x):\n",
    "    returnableVector = []\n",
    "    for i in range(len(v)):\n",
    "        returnableVector.append(relError(x, v[i]))\n",
    "\n",
    "    return returnableVector\n",
    "\n",
    "n = 40;\n",
    "x = np.linspace(1, n, n);\n",
    "expression = nExpressionsOfSeries(n)\n",
    "absErrors = vectorAbsError(nExpressionsOfSeries(n), math.pi)\n",
    "relErrors = vectorRelError(nExpressionsOfSeries(n), math.pi)\n",
    "\n",
    "plt.semilogy(x, relErrors, basey = 10, label = \"relative errors\")\n",
    "plt.semilogy(x, absErrors, basey = 10, label = \"absolute errors\")\n",
    "plt.xlabel(\"n\")\n",
    "plt.ylabel(\"errors\")\n",
    "plt.legend()\n",
    "plt.show()\n",
    "\n",
    "\n",
    "\n"
   ]
  },
  {
   "cell_type": "markdown",
   "metadata": {},
   "source": [
    "Zadanie 3:"
   ]
  },
  {
   "cell_type": "code",
   "execution_count": 18,
   "metadata": {},
   "outputs": [
    {
     "name": "stdout",
     "output_type": "stream",
     "text": [
      "Błąd bezwzględny dla n_max = 5:  0.0016151617923787498 błąd względny: 0.0005941848175817597\nBłąd bezwzględny dla n_max = 10:  2.7312660577649694e-08 błąd względny: 1.0047766310211053e-08\nOdwrotne sumowanie dla n_max = 5:  0.0016151617923783057 błąd względny: 0.0005941848175815963\n"
     ]
    }
   ],
   "source": [
    "def eApproximation(n):\n",
    "    returnableSum = 0;\n",
    "    for i in range(n+1):\n",
    "        returnableSum += 1 / strong(i)\n",
    "    return returnableSum\n",
    "\n",
    "def reversedEApproximation(n):\n",
    "    returnableSum = 0;\n",
    "    for i in range(n,-1,-1):\n",
    "        returnableSum += 1 / strong(i)\n",
    "    return returnableSum\n",
    "\n",
    "\n",
    "print(\"Błąd bezwzględny dla n_max = 5: \", absError(math.e, eApproximation(5)), \"błąd względny:\", relError(math.e, eApproximation(5)))\n",
    "print(\"Błąd bezwzględny dla n_max = 10: \", absError(math.e, eApproximation(10)), \"błąd względny:\", relError(math.e, eApproximation(10)))\n",
    "print(\"Odwrotne sumowanie dla n_max = 5: \", absError(math.e, reversedEApproximation(5)), \"błąd względny:\", relError(math.e, reversedEApproximation(5)))"
   ]
  },
  {
   "cell_type": "markdown",
   "metadata": {},
   "source": [
    "Zadanie 4:\n",
    "\n",
    "Błąd reprezentacji"
   ]
  },
  {
   "cell_type": "code",
   "execution_count": 19,
   "metadata": {},
   "outputs": [
    {
     "name": "stdout",
     "output_type": "stream",
     "text": [
      "n = 53\n"
     ]
    }
   ],
   "source": [
    "a = 1.0\n",
    "b = pow(2,0)\n",
    "i = 0\n",
    "while(a + b - a - b == 0):\n",
    "    i -= 1\n",
    "    b = pow(2,i)\n",
    "    \n",
    "print(\"n =\",-i)"
   ]
  },
  {
   "cell_type": "markdown",
   "metadata": {},
   "source": [
    "Zadanie 5:\n",
    "\n",
    "Błąd obcięcia"
   ]
  },
  {
   "cell_type": "code",
   "execution_count": 20,
   "metadata": {},
   "outputs": [
    {
     "name": "stdout",
     "output_type": "stream",
     "text": [
      "pi ~= 3.14063710098594\n"
     ]
    }
   ],
   "source": [
    "pi = lambda x: pow((6.0 * sum(1.0/(i*i) for i in range(1, x))),0.5)\n",
    "print(\"pi ~=\",pi(1000))"
   ]
  },
  {
   "cell_type": "code",
   "execution_count": null,
   "metadata": {},
   "outputs": [],
   "source": []
  }
 ],
 "metadata": {
  "kernelspec": {
   "display_name": "Python 3",
   "language": "python",
   "name": "python3"
  },
  "language_info": {
   "codemirror_mode": {
    "name": "ipython",
    "version": 3
   },
   "file_extension": ".py",
   "mimetype": "text/x-python",
   "name": "python",
   "nbconvert_exporter": "python",
   "pygments_lexer": "ipython3",
   "version": "3.6.3"
  }
 },
 "nbformat": 4,
 "nbformat_minor": 1
}
