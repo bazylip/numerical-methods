{
 "cells": [
  {
   "cell_type": "markdown",
   "metadata": {},
   "source": [
    "Sprawozdanie 3 Bazyli Polednia"
   ]
  },
  {
   "cell_type": "code",
   "execution_count": 4,
   "metadata": {},
   "outputs": [],
   "source": [
    "import math\n",
    "import matplotlib.pyplot as plt\n",
    "import numpy as np\n",
    "import scipy.optimize as sc\n",
    "import time"
   ]
  },
  {
   "cell_type": "markdown",
   "metadata": {},
   "source": [
    "Zadanie 1:"
   ]
  },
  {
   "cell_type": "code",
   "execution_count": 5,
   "metadata": {},
   "outputs": [
    {
     "data": {
      "image/png": "[encoded data removed]",
      "text/plain": [
       "<Figure size 432x288 with 1 Axes>"
      ]
     },
     "metadata": {},
     "output_type": "display_data"
    }
   ],
   "source": [
    "f = lambda x: math.e ** (-2 * x) + x ** 2 - 1\n",
    "df = lambda x: -2 * (math.e ** (-2 * x)) + 2 * x\n",
    "d2f = lambda x: 4 * (math.e  ** (-2 * x)) + 2\n",
    "\n",
    "x = np.linspace(-0.5, 2.5, 100)\n",
    "\n",
    "plt.plot(x, f(x), label='f(x)')\n",
    "plt.plot(x, df(x), label=\"f'(x)\")\n",
    "plt.plot(x, d2f(x), label=\"f''(x)\")\n",
    "\n",
    "plt.xlabel('X')\n",
    "plt.ylabel('Y')\n",
    "\n",
    "plt.title(\"f(x); f'(x); f''(x)\")\n",
    "\n",
    "plt.legend()\n",
    "\n",
    "plt.show()"
   ]
  },
  {
   "cell_type": "markdown",
   "metadata": {},
   "source": [
    "Zadanie 2:\n",
    "\n",
    "Warunki wystarczające zbieżności:\n",
    "1. funkcja ciągła\n",
    "2. iloczyń wartości funkcji na krańcach przedziału ujemny\n",
    "3. jeśli funkcja monotoniczna to istnieje dokładnie jeden pierwiastek"
   ]
  },
  {
   "cell_type": "code",
   "execution_count": 6,
   "metadata": {},
   "outputs": [
    {
     "name": "stdout",
     "output_type": "stream",
     "text": [
      "\nBisection - własna implementacja:\nPierwiastek:  0.9165625830995852\nCzas:  0.042533667204740076 ms\nIlosc porownan:  33\n\nscipy.bisect:\nPierwiastek:  0.9165625831053377\nCzas:  0.12875114511935667 ms\n"
     ]
    }
   ],
   "source": [
    "def bisection(f, x1, x2, eps, n):\n",
    "    counter = 0\n",
    "    xMiddle = (x1+x2)/2\n",
    "    if(f(xMiddle) == 0):\n",
    "        return xMiddle, 0\n",
    "    while(counter < n and abs(x1 - x2) > eps):\n",
    "        xMiddle = (x1+x2)/2\n",
    "        if(f(xMiddle) * f(x1) < 0):\n",
    "            x2 = xMiddle\n",
    "        else:\n",
    "            x1 = xMiddle\n",
    "        counter += 1\n",
    "    \n",
    "    return (x1+x2)/2, counter\n",
    "\n",
    "precision = 10**(-10)\n",
    "\n",
    "print(\"\\nBisection - własna implementacja:\")\n",
    "timer = []\n",
    "for i in range(100):\n",
    "    start = time.perf_counter()\n",
    "    x0, n = bisection(f, 0.4, 1.0, precision, 10000)\n",
    "    end = time.perf_counter()\n",
    "    timer.append((end-start)*1000)\n",
    "print(\"Pierwiastek: \", x0)\n",
    "print(\"Czas: \", np.mean(timer), \"ms\")\n",
    "print(\"Ilosc porownan: \", n)\n",
    "\n",
    "nOwnBisection = n\n",
    "timeOwnBisection = np.mean(timer)\n",
    "\n",
    "print(\"\\nscipy.bisect:\")\n",
    "timer = []\n",
    "for i in range(100):\n",
    "    start = time.perf_counter()\n",
    "    x0 = sc.bisect(f,0.2,10)\n",
    "    end = time.perf_counter()\n",
    "    timer.append((end-start)*1000)\n",
    "print(\"Pierwiastek: \", x0)\n",
    "print(\"Czas: \", np.mean(timer), \"ms\")\n",
    "\n",
    "timeScipyBisection = np.mean(timer)"
   ]
  },
  {
   "cell_type": "markdown",
   "metadata": {},
   "source": [
    "Zadanie 3:\n",
    "\n",
    "Warunki wystarczające zbieżności\n",
    "1. Funkcja ciągła na przedziale\n",
    "2. Iloczyn wartości na krańcach przedziału jest ujemny\n",
    "3. Pochodna pierwsza i druga funkcji istnieje, jest ciągła i o stałym znaku na przedziale"
   ]
  },
  {
   "cell_type": "code",
   "execution_count": 7,
   "metadata": {},
   "outputs": [
    {
     "name": "stdout",
     "output_type": "stream",
     "text": [
      "\nMetoda newtona - własna implementacja: \nPierwiastek:  0.9165625831056982\nCzas:  0.008010811348939662 ms\nIlosc porownan:  4\n\nsc.newton:\nPierwiastek:  0.9165625831056982\nCzas:  0.03474855605976712 ms\n"
     ]
    }
   ],
   "source": [
    "def newton(f, df, x0, eps, n):\n",
    "    counter = 0\n",
    "    \n",
    "    while(abs(f(x0)) > eps and counter < n):\n",
    "        x0 = x0 - f(x0)/df(x0)\n",
    "        counter += 1\n",
    "\n",
    "    return x0, counter\n",
    "\n",
    "precision = 10**-10\n",
    "print(\"\\nMetoda newtona - własna implementacja: \")\n",
    "timer = []\n",
    "for i in range(100):\n",
    "    start = time.perf_counter()\n",
    "    x0, n = newton(f, df, 1, precision, 10000)\n",
    "    end = time.perf_counter()\n",
    "    timer.append((end-start)*1000)\n",
    "print(\"Pierwiastek: \", x0)\n",
    "print(\"Czas: \", np.mean(timer), \"ms\")\n",
    "print(\"Ilosc porownan: \", n)\n",
    "\n",
    "nOwnNewton = n\n",
    "timeOwnNewton = np.mean(timer)\n",
    "\n",
    "print(\"\\nsc.newton:\")\n",
    "timer = []\n",
    "for i in range(100):\n",
    "    start = time.perf_counter()\n",
    "    x0 = sc.newton(f, 10, df)\n",
    "    end = time.perf_counter()\n",
    "    timer.append((end-start)*1000)\n",
    "print(\"Pierwiastek: \", x0)\n",
    "print(\"Czas: \", np.mean(timer), \"ms\")\n",
    "\n",
    "timeScipyNewton = np.mean(timer)"
   ]
  },
  {
   "cell_type": "markdown",
   "metadata": {},
   "source": [
    "Porównanie wszystkich:"
   ]
  },
  {
   "cell_type": "markdown",
   "metadata": {},
   "source": [
    "Zadanie 4:\n",
    "\n",
    "1. Funkcja ciągła na przedziale\n",
    "2. Iloczyn wartości na krańcach przedziału jest ujemny\n",
    "3. W szukanym przedziale pochodna funkcji jest różna od zera"
   ]
  },
  {
   "cell_type": "code",
   "execution_count": 8,
   "metadata": {},
   "outputs": [
    {
     "name": "stdout",
     "output_type": "stream",
     "text": [
      "\nMetoda siecznych - własna implementacja: \nPierwiastek:  0.9165625831056974\nCzas:  0.015879400651566122 ms\nIlosc porownan:  7\n\nsc.newton: \nPierwiastek:  0.9165625831057032\nCzas:  0.01591959383855812 ms\n"
     ]
    }
   ],
   "source": [
    "def sieczne(f, x1, x2, eps, n):\n",
    "\n",
    "    count = 1\n",
    "    \n",
    "    xMinus2 = x2\n",
    "    xMinus1 = x1\n",
    "    x = xMinus1 - f(xMinus1) * (xMinus1 - xMinus2) / (f(xMinus1) - f(xMinus2))\n",
    "    \n",
    "    while (abs(f(x)) > eps and count < n):\n",
    "        xMinus2 = xMinus1\n",
    "        xMinus1 = x\n",
    "        x = xMinus1 - f(xMinus1) * (xMinus1 - xMinus2) / (f(xMinus1) - f(xMinus2))\n",
    "        \n",
    "        count += 1\n",
    "            \n",
    "    return x, count\n",
    "   \n",
    "precision = 10**-10\n",
    "print(\"\\nMetoda siecznych - własna implementacja: \")\n",
    "timer = []\n",
    "for i in range(100):\n",
    "    start = time.perf_counter()\n",
    "    x0, n = sieczne(f, 0.4, 1.0, precision, 10000)\n",
    "    end = time.perf_counter()\n",
    "    timer.append((end-start)*1000)\n",
    "print(\"Pierwiastek: \", x0)\n",
    "print(\"Czas: \", np.mean(timer), \"ms\")\n",
    "print(\"Ilosc porownan: \", n)\n",
    "\n",
    "nOwnSieczne = n\n",
    "timeOwnSieczne = np.mean(timer)\n",
    "\n",
    "\n",
    "print(\"\\nsc.newton: \")\n",
    "timer = []\n",
    "for i in range(100):\n",
    "    start = time.perf_counter()\n",
    "    x0 = sc.newton(f, 10)\n",
    "    end = time.perf_counter()\n",
    "    timer.append((end-start)*1000)\n",
    "print(\"Pierwiastek: \", x0)\n",
    "print(\"Czas: \",np.mean(timer), \"ms\")\n",
    " \n"
   ]
  },
  {
   "cell_type": "markdown",
   "metadata": {},
   "source": [
    "Porównanie wszystkich:"
   ]
  },
  {
   "cell_type": "code",
   "execution_count": 9,
   "metadata": {},
   "outputs": [
    {
     "name": "stdout",
     "output_type": "stream",
     "text": [
      "Własne implementacje:\nBisekcja iteracje:  33  czas:  0.042533667204740076\nNewton iteracje:  4  czas:  0.008010811348939662\nSieczne iteracje:  7  czas:  0.015879400651566122\nScipy:\nBisekcja czas:  0.12875114511935667\nNewton czas:  0.03474855605976712\n"
     ]
    }
   ],
   "source": [
    "print(\"Własne implementacje:\")\n",
    "print(\"Bisekcja iteracje: \", nOwnBisection, \" czas: \", timeOwnBisection)\n",
    "print(\"Newton iteracje: \", nOwnNewton, \" czas: \", timeOwnNewton)\n",
    "print(\"Sieczne iteracje: \", nOwnSieczne, \" czas: \", timeOwnSieczne)\n",
    "print(\"Scipy:\")\n",
    "print(\"Bisekcja czas: \", timeScipyBisection)\n",
    "print(\"Newton czas: \", timeScipyNewton)"
   ]
  },
  {
   "cell_type": "code",
   "execution_count": null,
   "metadata": {},
   "outputs": [],
   "source": []
  }
 ],
 "metadata": {
  "kernelspec": {
   "display_name": "Python 3",
   "language": "python",
   "name": "python3"
  },
  "language_info": {
   "codemirror_mode": {
    "name": "ipython",
    "version": 3
   },
   "file_extension": ".py",
   "mimetype": "text/x-python",
   "name": "python",
   "nbconvert_exporter": "python",
   "pygments_lexer": "ipython3",
   "version": "3.6.3"
  }
 },
 "nbformat": 4,
 "nbformat_minor": 1
}
