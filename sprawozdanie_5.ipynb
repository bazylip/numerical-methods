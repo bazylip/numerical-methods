{
 "cells": [
  {
   "cell_type": "markdown",
   "metadata": {},
   "source": [
    "Sprawozdanie 5 Bazyli Polednia"
   ]
  },
  {
   "cell_type": "code",
   "execution_count": 3,
   "metadata": {},
   "outputs": [],
   "source": [
    "import numpy as np\n",
    "from numpy.linalg import inv\n",
    "from scipy.linalg import hilbert\n",
    "from scipy.linalg import solve_triangular\n",
    "from scipy.sparse import csr_matrix\n",
    "from scipy.sparse.linalg import bicg\n",
    "from scipy.sparse.linalg import gmres\n",
    "from numpy.linalg import cond\n",
    "import math\n",
    "import time\n",
    "import matplotlib.pyplot as plt"
   ]
  },
  {
   "cell_type": "markdown",
   "metadata": {},
   "source": [
    "Zadanie 1:\n",
    "\n",
    "Rozwiązanie zmienia się o duże wartości przy niewielkich zmianach wektora prawych stron"
   ]
  },
  {
   "cell_type": "code",
   "execution_count": 4,
   "metadata": {},
   "outputs": [
    {
     "name": "stdout",
     "output_type": "stream",
     "text": [
      "Współczynnik uwarunkowania A:  40004.0001000044\nRozwiązanie dla [2, 2.0001]:  [[1. 1.]]\nRozwiązanie dla [2, 2]: [[2. 0.]]\n"
     ]
    }
   ],
   "source": [
    "def conditionNumber(matrix):\n",
    "    invMatrix = inv(np.matrix(matrix))\n",
    "    invMatrix = np.absolute(invMatrix)\n",
    "    aMax = np.max(np.sum(aMatrix, axis=1), axis=0)\n",
    "    aInvMax = np.max(np.sum(invMatrix, axis=1), axis=0)\n",
    "\n",
    "    return(aMax[0, 0] * aInvMax[0, 0])\n",
    "\n",
    "aMatrix = np.matrix([[1,1],[1,1.0001]])\n",
    "print(\"Współczynnik uwarunkowania A: \", conditionNumber(aMatrix))\n",
    "\n",
    "b1 = [2, 2.0001]\n",
    "b2 = [2, 2]\n",
    "print(\"Rozwiązanie dla [2, 2.0001]: \", np.matmul(inv(aMatrix), b1))\n",
    "print(\"Rozwiązanie dla [2, 2]:\", np.matmul(inv(aMatrix), b2))"
   ]
  },
  {
   "cell_type": "markdown",
   "metadata": {},
   "source": [
    "Zadanie 2:\n",
    "\n",
    "Jeżeli występowałaby ona jako macierz A w równaniu, to rozwiązanie byłoby bardzo niestabilne."
   ]
  },
  {
   "cell_type": "code",
   "execution_count": 6,
   "metadata": {},
   "outputs": [
    {
     "name": "stdout",
     "output_type": "stream",
     "text": [
      "Norma wierszowa:  33872789536.91961\nNorma kolumnowa:  33872789532.499146\nNorma spektralna:  15257575270.772364\n"
     ]
    }
   ],
   "source": [
    "hilbertMatrix = hilbert(8)\n",
    "print(\"Norma wierszowa: \", cond(hilbertMatrix, np.inf))\n",
    "print(\"Norma kolumnowa: \", cond(hilbertMatrix, 1))\n",
    "print(\"Norma spektralna: \", cond(hilbertMatrix, 2))"
   ]
  },
  {
   "cell_type": "markdown",
   "metadata": {},
   "source": [
    "Zadanie 3:"
   ]
  },
  {
   "cell_type": "code",
   "execution_count": 8,
   "metadata": {},
   "outputs": [
    {
     "name": "stdout",
     "output_type": "stream",
     "text": [
      "linalg.solve:\n [ 1.          0.         -8.00000001  0.00000016 10.66666398  0.00002928\n -5.68911517  0.00129195  1.61979719  0.01875173 -0.33800103  0.10068853\n -0.12727042  0.20427971 -0.20150982  0.1457182  -0.07797074  0.02889259\n -0.00658445  0.0006947 ]\nlinalg.lstsq:\n [ 1.          0.         -8.          0.         10.66666663  0.00000052\n -5.68889339  0.00002683  1.62528343  0.00034212 -0.28968094  0.00097447\n  0.03450359 -0.00093311 -0.00039345 -0.00342864  0.00289244 -0.0013245\n  0.00036744 -0.00004706]\nqr:\n [ 1.         -0.         -8.         -0.00000005 10.66666748 -0.00000879\n -5.68882179 -0.00037787  1.62700922 -0.00530673 -0.2753403  -0.02740145\n  0.07825685 -0.0532089   0.04741821 -0.03620421  0.01915496 -0.00682657\n  0.00150006 -0.00015375]\n\nlinalg.solve time: 0.10921416444997334 ms\nlinalg.lstsq time: 0.09999755749099393 ms\nqr time: 0.22297943438292833 ms\n\nJakość linalg.solve: 37.315753586352905\nJakość linalg.lstsq: 37.317898100921035\nJakość qr: 37.31858300923798\n"
     ]
    }
   ],
   "source": [
    "n = 20\n",
    "t = np.linspace(0.0, 1.0, n)\n",
    "t = np.transpose(t)\n",
    "b = []\n",
    "for i in range(n):\n",
    "    b.append(math.cos(4*t[i]))\n",
    "b = np.transpose(b)\n",
    "\n",
    "A = np.vander(t, n)\n",
    "A = np.fliplr(A)\n",
    "\n",
    "np.set_printoptions(suppress=True)\n",
    "\n",
    "timer = []\n",
    "for i in range(100):\n",
    "    start = time.perf_counter()\n",
    "    x = np.linalg.solve(A, b)\n",
    "    end = time.perf_counter()\n",
    "    timer.append((end-start) * 1000)\n",
    "\n",
    "linalgSolveTime = np.mean(timer)\n",
    "xLinalgSolve = x\n",
    "\n",
    "\n",
    "\n",
    "timer = []\n",
    "for i in range(100):\n",
    "    start = time.perf_counter()\n",
    "    x = np.linalg.lstsq(A, b, rcond=None)[0]\n",
    "    end = time.perf_counter()\n",
    "    timer.append((end - start) * 1000)\n",
    "\n",
    "linalgLstsqTime = np.mean(timer)\n",
    "xLinalgLstsq = x\n",
    "\n",
    "\n",
    "\n",
    "timer = []\n",
    "for i in range(100):\n",
    "    start = time.perf_counter()\n",
    "    q, r = np.linalg.qr(A)\n",
    "    x = solve_triangular(r, np.matmul(np.transpose(q), b))\n",
    "    end = time.perf_counter()\n",
    "    timer.append((end - start) * 1000)\n",
    "\n",
    "qrTime = np.mean(timer)\n",
    "xQr = x\n",
    "\n",
    "\n",
    "\n",
    "\n",
    "print(\"linalg.solve:\\n\", xLinalgSolve)\n",
    "print(\"linalg.lstsq:\\n\", xLinalgLstsq)\n",
    "print(\"qr:\\n\",xQr)\n",
    "print(\"\\nlinalg.solve time:\", linalgSolveTime, \"ms\")\n",
    "print(\"linalg.lstsq time:\", linalgLstsqTime, \"ms\")\n",
    "print(\"qr time:\", qrTime, \"ms\")\n",
    "\n",
    "print(\"\\nJakość linalg.solve:\", np.linalg.norm(b - np.multiply(A, xLinalgSolve), np.inf))\n",
    "print(\"Jakość linalg.lstsq:\", np.linalg.norm(b - np.multiply(A, xLinalgLstsq), np.inf))\n",
    "print(\"Jakość qr:\", np.linalg.norm(b - np.multiply(A, xQr), np.inf))\n"
   ]
  },
  {
   "cell_type": "markdown",
   "metadata": {},
   "source": [
    "Zadanie 4:\n",
    "\n",
    "Na wykresie jakości rozwiązania większość punktów się pokrywa."
   ]
  },
  {
   "cell_type": "code",
   "execution_count": 10,
   "metadata": {},
   "outputs": [
    {
     "data": {
      "image/png": "[encoded data removed]",
      "text/plain": [
       "<Figure size 432x288 with 1 Axes>"
      ]
     },
     "metadata": {},
     "output_type": "display_data"
    },
    {
     "data": {
      "image/png": "[encoded data removed]",
      "text/plain": [
       "<Figure size 432x288 with 1 Axes>"
      ]
     },
     "metadata": {},
     "output_type": "display_data"
    },
    {
     "data": {
      "image/png": "[encoded data removed]",
      "text/plain": [
       "<Figure size 432x288 with 1 Axes>"
      ]
     },
     "metadata": {},
     "output_type": "display_data"
    }
   ],
   "source": [
    "def matrixA(n, t):\n",
    "    A = np.diag(np.ones(n))\n",
    "    X = np.empty([n,n])\n",
    "    for i in range(n):\n",
    "        for j in range(n):\n",
    "            X[i][j] = np.random.uniform(-1, 1)\n",
    "\n",
    "    X = np.tril(X) - np.diag(np.diag(X))\n",
    "    A = A + X + np.transpose(X)\n",
    "\n",
    "    for i in range(n):\n",
    "        for j in range(n):\n",
    "            if A[i][j] > t and i != j:\n",
    "                A[i][j] = 0\n",
    "\n",
    "    return A\n",
    "\n",
    "n = 50\n",
    "b = np.empty([n])\n",
    "for i in range(n):\n",
    "    b[i] = np.random.uniform(-1,1)\n",
    "\n",
    "t = [0.01, 0.05, 0.1, 0.2, 0.5, 0.75]\n",
    "qualityLinalg = []\n",
    "qualityBicg = []\n",
    "qualityGmres = []\n",
    "timerLinalg = []\n",
    "timerBicg = []\n",
    "timerGmres = []\n",
    "\n",
    "for it in t:\n",
    "    currentA = matrixA(n, it)\n",
    "    plt.plot(it, np.linalg.cond(currentA, np.inf), 'bo')\n",
    "    denseMatrixA = csr_matrix(currentA)\n",
    "    timerLinalgTmp = []\n",
    "    timerBicgTmp = []\n",
    "    timerGmresTmp = []\n",
    "\n",
    "\n",
    "    for i in range(3):\n",
    "        start = time.perf_counter()\n",
    "        xLinalg = np.linalg.solve(currentA, b)\n",
    "        end = time.perf_counter()\n",
    "        timerLinalgTmp.append((end - start) * 1000)\n",
    "\n",
    "\n",
    "    for i in range(3):\n",
    "        start = time.perf_counter()\n",
    "        xBicg = bicg(denseMatrixA, b)[0]\n",
    "        end = time.perf_counter()\n",
    "        timerBicgTmp.append((end - start) * 1000)\n",
    "\n",
    "    for i in range(3):\n",
    "        start = time.perf_counter()\n",
    "        xGmres = gmres(denseMatrixA, b)[0]\n",
    "        end = time.perf_counter()\n",
    "        timerGmresTmp.append((end - start) * 1000)\n",
    "\n",
    "    timerLinalg.append(np.mean(timerLinalgTmp))\n",
    "    timerBicg.append(np.mean(timerBicgTmp))\n",
    "    timerGmres.append(np.mean(timerGmresTmp))\n",
    "    qualityLinalg.append(np.linalg.norm(b - np.multiply(currentA, xLinalg), np.inf))\n",
    "    qualityBicg.append(np.linalg.norm(b - np.multiply(currentA, xBicg), np.inf))\n",
    "    qualityGmres.append(np.linalg.norm(b - np.multiply(currentA, xGmres), np.inf))\n",
    "\n",
    "\n",
    "plt.xlabel('t')\n",
    "plt.ylabel('cond(A)')\n",
    "plt.title('Współczynnik uwarunkowania macierzy A w zależności od t')\n",
    "plt.show()\n",
    "\n",
    "plt.plot(t, timerLinalg, 'bo', label='linalg.solve')\n",
    "plt.plot(t, timerBicg, 'yo', label='bicg')\n",
    "plt.plot(t, timerGmres, 'go', label='gmres')\n",
    "plt.xlabel('t')\n",
    "plt.ylabel('czas [ms]')\n",
    "plt.legend()\n",
    "plt.title('Czas rozwiązania Ax=b od t')\n",
    "plt.show()\n",
    "\n",
    "\n",
    "plt.plot(t, qualityLinalg, 'bo', label='linalg.solve')\n",
    "plt.plot(t, qualityBicg, 'yo', label='bicg')\n",
    "plt.plot(t, qualityGmres, 'go', label='gmres')\n",
    "plt.xlabel('t')\n",
    "plt.ylabel('||b-Ax||')\n",
    "plt.legend()\n",
    "plt.title('Jakość rozwiązania Ax=b od t')\n",
    "plt.show()"
   ]
  },
  {
   "cell_type": "markdown",
   "metadata": {},
   "source": [
    "Zadanie 5:\n",
    "\n",
    "W przypadku zadanej do zbadania macierzy wynik nie jest zbieżny do poprawnego, gdyż macierz A nie jest diagonalnie dominująca"
   ]
  },
  {
   "cell_type": "code",
   "execution_count": 11,
   "metadata": {},
   "outputs": [
    {
     "name": "stdout",
     "output_type": "stream",
     "text": [
      "Rozwiązanie metodą Gaussa-Seidela:\n [[ 0.14028777]\n [-0.08093525]\n [ 0.0881295 ]]\nRozwiązanie linalg.solve:\n [[ 0.14028777]\n [-0.08093525]\n [ 0.0881295 ]]\n\nRozwiązanie metodą Gaussa-Seidela:\n [[-1.19737816e+69]\n [-1.19737816e+69]\n [-1.19737816e+69]]\nRozwiązanie linalg.solve:\n [[ 0.25]\n [-0.75]\n [ 0.75]]\n"
     ]
    }
   ],
   "source": [
    "def gauss_seidel(A, b, max_it, eps):\n",
    "\n",
    "    n = b.size\n",
    "    x = np.empty([n])\n",
    "    x = np.zeros_like(x)[np.newaxis]\n",
    "    x = np.transpose(x)\n",
    "\n",
    "    while(max_it > 0):\n",
    "        x_it = np.zeros_like(x)\n",
    "\n",
    "        for i in range(n):\n",
    "            sigma = 0\n",
    "            for j in range(n):\n",
    "                if i != j:\n",
    "                    sigma += A.item((i, j)) * x.item((j, 0))\n",
    "            newElement = (b.item((i, 0)) - sigma)/A.item((i,i))\n",
    "            x_it.itemset((i,0), newElement)\n",
    "        if(np.allclose(np.multiply(A, x_it), b, eps)):\n",
    "            return x_it\n",
    "        else:\n",
    "            x = x_it\n",
    "        max_it -= 1\n",
    "\n",
    "    return x\n",
    "\n",
    "max_it = 100\n",
    "eps = 10**-10\n",
    "\n",
    "A = np.matrix([[12,3,-5],[1,5,3],[3,7,13]])\n",
    "b = np.matrix([1,0,1])\n",
    "b = np.transpose(b)\n",
    "\n",
    "print(\"Rozwiązanie metodą Gaussa-Seidela:\\n\", gauss_seidel(A, b, max_it, eps))\n",
    "print(\"Rozwiązanie linalg.solve:\\n\", np.linalg.solve(A, b))\n",
    "\n",
    "\n",
    "A = np.matrix([[1,2,3],[2,1,3],[3,2,1]])\n",
    "b = np.matrix([1,2,0])\n",
    "b = np.transpose(b)\n",
    "\n",
    "\n",
    "print(\"\\nRozwiązanie metodą Gaussa-Seidela:\\n\", gauss_seidel(A, b, max_it, eps))\n",
    "print(\"Rozwiązanie linalg.solve:\\n\", np.linalg.solve(A, b))"
   ]
  },
  {
   "cell_type": "code",
   "execution_count": null,
   "metadata": {},
   "outputs": [],
   "source": []
  }
 ],
 "metadata": {
  "kernelspec": {
   "display_name": "Python 2",
   "language": "python",
   "name": "python2"
  },
  "language_info": {
   "codemirror_mode": {
    "name": "ipython",
    "version": 2
   },
   "file_extension": ".py",
   "mimetype": "text/x-python",
   "name": "python",
   "nbconvert_exporter": "python",
   "pygments_lexer": "ipython2",
   "version": "2.7.6"
  }
 },
 "nbformat": 4,
 "nbformat_minor": 0
}
