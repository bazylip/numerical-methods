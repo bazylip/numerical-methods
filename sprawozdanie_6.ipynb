{
 "cells": [
  {
   "cell_type": "markdown",
   "metadata": {
    "collapsed": true
   },
   "source": [
    "Sprawozdanie 6, Bazyli Polednia"
   ]
  },
  {
   "cell_type": "code",
   "execution_count": 31,
   "metadata": {},
   "outputs": [],
   "source": [
    "import math\n",
    "from scipy.integrate import romberg, quad\n",
    "from scipy.optimize import newton\n",
    "from scipy.stats import norm\n",
    "from scipy.interpolate import interp1d\n",
    "import matplotlib.pyplot as plt"
   ]
  },
  {
   "cell_type": "markdown",
   "metadata": {},
   "source": [
    "Zadanie 1:\n",
    "\n",
    "Najbardziej zbliżona do wyniku analitycznego (spośród metod zaimplementowanych przeze mnie) jest złożona metoda Simpsona "
   ]
  },
  {
   "cell_type": "code",
   "execution_count": 32,
   "metadata": {},
   "outputs": [
    {
     "name": "stdout",
     "output_type": "stream",
     "text": [
      "Analitycznie:  0.43233235838169365 , różnica względem metody analitycznej:  100.0 %\nMetoda prostokątów:  0.36787944117144233 , różnica względem metody analitycznej:  85.09181282393216 %\nMetoda trapezów:  0.5676676416183064 , różnica względem metody analitycznej:  131.30352854993313 %\nMetoda Simpsona:  0.4344755079870637 , różnica względem metody analitycznej:  100.4957180659325 %\nZłożona metoda trapezów dla 10 podprzedziałów:  0.43377250641846693 , różnica względem metody analitycznej:  100.33311132253992 %\nZłożona metoda Simpsona dla 10 podprzedziałów:  0.43233259828070303 , różnica względem metody analitycznej:  100.00005548948737 %\nMetoda Romberga, eps=10e-06:  0.43233235838943557 , różnica względem metody analitycznej:  100.00000000179072 %\nscipy.integrate.quad:  0.4323323583816936 , różnica względem metody analitycznej:  99.99999999999999 %\n"
     ]
    }
   ],
   "source": [
    "def analyticalRule(f, a, b):\n",
    "    return (-f(b)/2) + (f(a)/2)\n",
    "\n",
    "def rectangleRule(f, a, b):\n",
    "    return (b-a) * f((a+b) / 2)\n",
    "\n",
    "def trapezoidalRule(f, a, b):\n",
    "    return (b-a) * (f(a)+f(b)) / 2\n",
    "\n",
    "def simpsonRule(f, a, b):\n",
    "    return (b-a) * (f(a) + 4 * f((a+b) / 2) + f(b)) / 6\n",
    "\n",
    "def complexTrapezoidalRule(f, a, b, n):\n",
    "    diff = (b - a) / n\n",
    "    sum = 0\n",
    "\n",
    "    for i in range(n):\n",
    "        sum += trapezoidalRule(f, a, a + diff)\n",
    "        a += diff\n",
    "\n",
    "    return sum\n",
    "\n",
    "def complexSimpsonRule(f, a, b, n):\n",
    "    diff = (b-a) / n\n",
    "    sum = 0\n",
    "\n",
    "    for i in range(n):\n",
    "        sum += simpsonRule(f, a, a + diff)\n",
    "        a += diff\n",
    "\n",
    "    return sum\n",
    "\n",
    "f = lambda x : math.exp(-2*x)\n",
    "a = 0\n",
    "b = 1\n",
    "eps = 10**-6\n",
    "n = 10\n",
    "\n",
    "def diffFrom(i0, i):\n",
    "    return (i/i0)*100\n",
    "\n",
    "analytical = analyticalRule(f, a, b)\n",
    "rectangle = rectangleRule(f, a, b)\n",
    "trapezoidal = trapezoidalRule(f, a, b)\n",
    "simpson = simpsonRule(f, a, b)\n",
    "complexTrapezoidal = complexTrapezoidalRule(f, a, b, n)\n",
    "complexSimpson = complexSimpsonRule(f, a, b, n)\n",
    "rombergValue = romberg(f, a, b, tol=eps)\n",
    "quadValue = quad(f, a, b)[0]\n",
    "\n",
    "\n",
    "print(\"Analitycznie: \", analytical, \", różnica względem metody analitycznej: \", diffFrom(analytical, analytical), \"%\")\n",
    "print(\"Metoda prostokątów: \", rectangle, \", różnica względem metody analitycznej: \", diffFrom(analytical, rectangle), \"%\")\n",
    "print(\"Metoda trapezów: \", trapezoidal, \", różnica względem metody analitycznej: \", diffFrom(analytical, trapezoidal), \"%\")\n",
    "print(\"Metoda Simpsona: \", simpson, \", różnica względem metody analitycznej: \", diffFrom(analytical, simpson), \"%\")\n",
    "print(\"Złożona metoda trapezów dla 10 podprzedziałów: \", complexTrapezoidal, \", różnica względem metody analitycznej: \", diffFrom(analytical, complexTrapezoidal), \"%\")\n",
    "print(\"Złożona metoda Simpsona dla 10 podprzedziałów: \", complexSimpson, \", różnica względem metody analitycznej: \", diffFrom(analytical, complexSimpson), \"%\")\n",
    "print(\"Metoda Romberga, eps=10e-06: \", rombergValue, \", różnica względem metody analitycznej: \", diffFrom(analytical, rombergValue), \"%\")\n",
    "print(\"scipy.integrate.quad: \", quadValue, \", różnica względem metody analitycznej: \", diffFrom(analytical, quadValue), \"%\")\n"
   ]
  },
  {
   "cell_type": "markdown",
   "metadata": {},
   "source": [
    "Zadanie 2:"
   ]
  },
  {
   "cell_type": "code",
   "execution_count": 33,
   "metadata": {},
   "outputs": [
    {
     "name": "stdout",
     "output_type": "stream",
     "text": [
      "Złożona metoda simpsona:  1.6448536269391667 , różnica względem scipy.stats.norm.isf:  99.99999999925184 %\nZłożona metoda trapezów:  1.6448907135693647 , różnica względem scipy.stats.norm.isf:  100.00225470627197 %\nscipy.stats.norm.isf:  1.6448536269514729\n"
     ]
    }
   ],
   "source": [
    "f = lambda t : math.exp((-(t**2))/2)/math.sqrt(2*math.pi)\n",
    "\n",
    "def rownanieSimpson(x):\n",
    "    return complexSimpsonRule(f,0,x,100) - 0.45\n",
    "\n",
    "def rownanieTrapezy(x):\n",
    "    return complexTrapezoidalRule(f,0,x,100) - 0.45\n",
    "\n",
    "print(\"Złożona metoda simpsona: \", newton(rownanieSimpson, 0.5, tol=10**-5, fprime=f), \", różnica względem scipy.stats.norm.isf: \", diffFrom(norm.isf(0.05), newton(rownanieSimpson, 0.5, tol=10**-5, fprime=f)), \"%\")\n",
    "print(\"Złożona metoda trapezów: \", newton(rownanieTrapezy, 0.5, tol=10**-5, fprime=f), \", różnica względem scipy.stats.norm.isf: \", diffFrom(norm.isf(0.05), newton(rownanieTrapezy, 0.5, tol=10**-5, fprime=f)), \"%\")\n",
    "print(\"scipy.stats.norm.isf: \", norm.isf(0.05))\n"
   ]
  },
  {
   "cell_type": "markdown",
   "metadata": {},
   "source": [
    "Zadanie 3:"
   ]
  },
  {
   "cell_type": "code",
   "execution_count": 35,
   "metadata": {},
   "outputs": [
    {
     "name": "stdout",
     "output_type": "stream",
     "text": [
      "Droga hamowania:  6.8249999822308585\nPrędkość średnia w czasie t=0 do t=0.5:  5.4750000000000005\n"
     ]
    }
   ],
   "source": [
    "t = [0., 0.5, 1., 2., 3., 4.]\n",
    "a_in = [-4.5, -4.5, -2.3, -1., -0.5, 0]\n",
    "a = []\n",
    "for i in range(len(a_in)):\n",
    "    a.append(abs(a_in[i]))\n",
    "\n",
    "a_interpolate = interp1d(t, a)\n",
    "\n",
    "vp= quad(a_interpolate, 0, 4)[0]\n",
    "\n",
    "v = lambda t: quad(a_interpolate, 0, t)[0] - vp\n",
    "\n",
    "x = abs(quad(v, 0, 4)[0])\n",
    "\n",
    "print(\"Droga hamowania: \", x)\n",
    "\n",
    "v_srednia = abs(quad(v, 0, 0.5)[0] / 0.5)\n",
    "print(\"Prędkość średnia w czasie t=0 do t=0.5: \", v_srednia)\n"
   ]
  },
  {
   "cell_type": "markdown",
   "metadata": {},
   "source": [
    "Zadanie 4:"
   ]
  },
  {
   "cell_type": "code",
   "execution_count": 36,
   "metadata": {},
   "outputs": [
    {
     "name": "stdout",
     "output_type": "stream",
     "text": [
      "Długość blachy trapezy:  11.084984534623398\nDługość blachy simpson:  11.084984534623418\nDługość blachy romberg:  15.825159885482952\n"
     ]
    },
    {
     "data": {
      "image/png": "[encoded data removed]",
      "text/plain": [
       "<Figure size 432x288 with 1 Axes>"
      ]
     },
     "metadata": {},
     "output_type": "display_data"
    },
    {
     "data": {
      "image/png": "[encoded data removed]",
      "text/plain": [
       "<Figure size 432x288 with 1 Axes>"
      ]
     },
     "metadata": {},
     "output_type": "display_data"
    }
   ],
   "source": [
    "gamma = lambda t : 0.1 * math.sin(10 * math.pi * t)\n",
    "dgamma = lambda t : math.pi * math.cos(10 * math.pi * t)\n",
    "\n",
    "\n",
    "f = lambda t : math.sqrt(1 + (dgamma(t))**2)\n",
    "\n",
    "blachaTrapezy = lambda i : complexTrapezoidalRule(f, 0, 4.8, i) \n",
    "blachaSimpson = lambda i : complexSimpsonRule(f, 0, 4.8, i)\n",
    "blachaRomberg = romberg(f, 0, 4.8)\n",
    "\n",
    "\n",
    "print(\"Długość blachy trapezy: \", blachaTrapezy(10))\n",
    "print(\"Długość blachy simpson: \", blachaSimpson(10))\n",
    "print(\"Długość blachy romberg: \", blachaRomberg)\n",
    "\n",
    "for i in range(1, 101):\n",
    "    plt.plot(i, blachaTrapezy(i), 'go')\n",
    "\n",
    "plt.title(\"Metoda trapezów\")\n",
    "plt.xlabel(\"Ilość przedziałów\")\n",
    "plt.ylabel(\"Długość potrzebnej blachy\")\n",
    "plt.show()\n",
    "\n",
    "\n",
    "for i in range(1, 101):\n",
    "    plt.plot(i, blachaSimpson(i), 'bo')\n",
    "\n",
    "plt.title(\"Metoda Simspona\")\n",
    "plt.xlabel(\"Ilość przedziałów\")\n",
    "plt.ylabel(\"Długość potrzebnej blachy\")\n",
    "plt.show()\n"
   ]
  },
  {
   "cell_type": "code",
   "execution_count": 25,
   "metadata": {},
   "outputs": [],
   "source": []
  },
  {
   "cell_type": "code",
   "execution_count": 25,
   "metadata": {},
   "outputs": [],
   "source": []
  },
  {
   "cell_type": "code",
   "execution_count": null,
   "metadata": {},
   "outputs": [],
   "source": []
  }
 ],
 "metadata": {
  "kernelspec": {
   "display_name": "Python 2",
   "language": "python",
   "name": "python2"
  },
  "language_info": {
   "codemirror_mode": {
    "name": "ipython",
    "version": 2
   },
   "file_extension": ".py",
   "mimetype": "text/x-python",
   "name": "python",
   "nbconvert_exporter": "python",
   "pygments_lexer": "ipython2",
   "version": "2.7.6"
  }
 },
 "nbformat": 4,
 "nbformat_minor": 0
}
